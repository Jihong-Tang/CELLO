{
 "cells": [
  {
   "cell_type": "markdown",
   "source": [],
   "metadata": {}
  },
  {
   "cell_type": "code",
   "execution_count": null,
   "source": [
    "pip install numpy pandas matplotlib"
   ],
   "outputs": [],
   "metadata": {}
  },
  {
   "cell_type": "code",
   "execution_count": null,
   "source": [],
   "outputs": [],
   "metadata": {}
  },
  {
   "cell_type": "code",
   "execution_count": 1,
   "source": [
    "import sys, os\n",
    "import numpy as np\n",
    "import pandas as pd\n",
    "import matplotlib\n",
    "from scipy.stats import fisher_exact\n",
    "# control the working directory\n",
    "print(os.getcwd())\n",
    "\n",
    "# data import and pandas manipulation\n",
    "fp_savi = \"../input.savi.txt\"\n",
    "cutoff_refdepth_B = 20\n",
    "cutoff_altdepth_B = 1\n",
    "cutoff_freq = 5\n",
    "\n",
    "# function 1 \n",
    "raw_data = pd.read_csv(fp_savi, delimiter=\"\\t\", index_col=False)\n",
    "#print(raw_data.describe())\n",
    "\n",
    "df_savi = raw_data.loc[lambda df:(df[\"refdepth_Blood\"] >= cutoff_refdepth_B) & \n",
    "                                 (df[\"altdepth_Blood\"] <= cutoff_altdepth_B) & \n",
    "                                 (df[\"Sgt1_max_frequency\"] >= cutoff_freq), :]\n",
    "df_savi = df_savi.fillna(0)\n"
   ],
   "outputs": [
    {
     "output_type": "stream",
     "name": "stdout",
     "text": [
      "/Users/jihongtang/Documents/GitHub/CELLO/CELLOP\n"
     ]
    }
   ],
   "metadata": {}
  },
  {
   "cell_type": "code",
   "execution_count": 2,
   "source": [
    "# Cell for function mutStats preparation \n",
    "# function 2 \n",
    "df_savi = df_savi\n",
    "genelist_selected = ['LTBP4', 'PTPN11', 'NF1', 'RB1', 'PDGFRA','PIK3CG', 'PIK3R1', 'PIK3CA', 'PTEN', 'EGFR', 'IDH1', 'ATRX', 'TP53']\n",
    "cutoff_freq = 5\n",
    "remove_LOW = True\n",
    "\n",
    "# remove the synonymous variant labelled by LOW in feature Effect_Impact\n",
    "if(remove_LOW):\n",
    "    df_savi = df_savi.loc[lambda df: df[\"Effect_Impact\"] != 'LOW', :]\n",
    "\n",
    "# pandas Series object ==> list data structure\n",
    "case = df_savi[\"CaseID\"].drop_duplicates().tolist()\n",
    "\n",
    "# counting different mutations\n",
    "mut_P = [0] * len(case)\n",
    "mut_R = [0] * len(case)\n",
    "mut_C = [0] * len(case)\n",
    "\n",
    "# use lambda function to count mutations in different type\n",
    "for i in range(len(case)):\n",
    "    mut_C[i] = (lambda df: (df[\"CaseID\"] == case[i]) \n",
    "                            & (df[\"Primary_freq\"] >= cutoff_freq) \n",
    "                            & (df[\"Recurrent_freq\"] >= cutoff_freq)\n",
    "                )(df_savi).sum()\n",
    "    mut_P[i] = (lambda df: (df[\"CaseID\"] == case[i]) \n",
    "                            & (df[\"Primary_freq\"] >= cutoff_freq) \n",
    "                            & (df[\"Recurrent_freq\"] < cutoff_freq)\n",
    "                )(df_savi).sum()\n",
    "    mut_R[i] = (lambda df: (df[\"CaseID\"] == case[i]) \n",
    "                            & (df[\"Primary_freq\"] < cutoff_freq) \n",
    "                            & (df[\"Recurrent_freq\"] >= cutoff_freq)\n",
    "                )(df_savi).sum()\n",
    "\n",
    "df_mut_num = pd.DataFrame({'Patient': case,\n",
    "                            'Primary': mut_P,\n",
    "                            'Common': mut_C,\n",
    "                            'Recurrent': mut_R})\n"
   ],
   "outputs": [],
   "metadata": {}
  },
  {
   "cell_type": "code",
   "execution_count": 3,
   "source": [
    "# create 2D list in python using following format to make sure to create several \n",
    "# separate lists in the second dimension\n",
    "list_mut_gene = [['N'] * len(genelist_selected) for _ in range(len(case))]\n",
    "df_savi_gene = df_savi[df_savi.Gene_Name.isin(genelist_selected)]\n",
    "\n",
    "geneSel = genelist_selected\n",
    "for i in range(len(case)):\n",
    "    for j in range(len(geneSel)):\n",
    "        temp_P = df_savi_gene.Primary_freq[(df_savi_gene.CaseID == case[i]) & (df_savi_gene.Gene_Name == geneSel[j])]\n",
    "        temp_R = df_savi_gene.Recurrent_freq[(df_savi_gene.CaseID == case[i]) & (df_savi_gene.Gene_Name == geneSel[j])]\n",
    "        if any(temp_P >= cutoff_freq) & any(temp_R >= cutoff_freq): \n",
    "            list_mut_gene[i][j] = 'C'\n",
    "        elif any(temp_P >= cutoff_freq):\n",
    "            list_mut_gene[i][j] = 'P'\n",
    "        elif any(temp_R >= cutoff_freq):\n",
    "            list_mut_gene[i][j] = 'R'\n",
    "        else:\n",
    "            list_mut_gene[i][j] = 'N'\n",
    "\n",
    "df_mut_gene = pd.DataFrame(np.array(list_mut_gene), columns=geneSel)\n",
    "df_mut_gene.index = case\n"
   ],
   "outputs": [],
   "metadata": {}
  },
  {
   "cell_type": "code",
   "execution_count": null,
   "source": [
    "# funciton 3 \n"
   ],
   "outputs": [],
   "metadata": {}
  },
  {
   "cell_type": "code",
   "execution_count": 52,
   "source": [
    "# function 4\n",
    "# co-mutation analysis \n",
    "df_mut_gene = df_mut_gene\n",
    "cutoff_pValue = 0.1\n",
    "# use replace function and regular expression to generate Primary and Recurrent pattern matrix\n",
    "mt_mut_P = df_mut_gene.replace(\n",
    "    r'[C, P]', 1, regex=True).replace(r'[R, N]', 0, regex=True)\n",
    "mt_mut_R = df_mut_gene.replace(\n",
    "    r'[C, R]', 1, regex=True).replace(r'[P, N]', 0, regex=True)\n",
    "\n",
    "# prepare the data of co-mutation analysis\n",
    "list_columns = list(df_mut_gene.columns)\n",
    "plot_mutCor = [[0] * 4 for _ in range(len(list_columns)**2)]\n",
    "idx = 0\n",
    "for i in range(len(df_mut_gene.columns)):\n",
    "    for j in range(len(df_mut_gene.columns)):\n",
    "        plot_mutCor[idx][0] = list_columns[i]\n",
    "        plot_mutCor[idx][1] = list_columns[j]\n",
    "\n",
    "        mt_FEtest = np.array([[0,0], [0,0]]) # initial the matrix for fisher exact test\n",
    "        if i > j: # primary tumor section\n",
    "            mt_FEtest[0][0] = sum((mt_mut_P.iloc[:,i] == 1)\n",
    "                                  & (mt_mut_P.iloc[:,j] == 1))\n",
    "            mt_FEtest[0][1] = sum((mt_mut_P.iloc[:,i] == 1)\n",
    "                                  & (mt_mut_P.iloc[:,j] == 0))\n",
    "            mt_FEtest[1][0] = sum((mt_mut_P.iloc[:,i] == 0)\n",
    "                                  & (mt_mut_P.iloc[:,j] == 1))\n",
    "            mt_FEtest[1][1] = sum((mt_mut_P.iloc[:,i] == 0)\n",
    "                                  & (mt_mut_P.iloc[:,j] == 0))\n",
    "            idx_coMutation = ((mt_FEtest[0][0]+1) * (mt_FEtest[1][1]+1)) / \\\n",
    "                ((mt_FEtest[0][1]+1) * (mt_FEtest[1][0]+1))\n",
    "            \n",
    "            # fisher exact test\n",
    "            odds, pValue = fisher_exact(mt_FEtest, alternative='two-sided')\n",
    "\n",
    "            if pValue < cutoff_pValue:\n",
    "                plot_mutCor[idx][2] = -np.log10(pValue) + 1 # for dot size, if the pvalue is lager than cutoff value, fill in instinct value\n",
    "                if idx_coMutation > 1:\n",
    "                    plot_mutCor[idx][3] = 'D_red'\n",
    "                else:\n",
    "                    plot_mutCor[idx][3] = 'A_blue'\n",
    "            else:\n",
    "                plot_mutCor[idx][2] = 1\n",
    "                plot_mutCor[idx][3] = 'C_grey'\n",
    "\n",
    "        elif i < j: # recurrent tumor section\n",
    "            mt_FEtest[0][0] = sum((mt_mut_R.iloc[:, i] == 1)\n",
    "                                  & (mt_mut_R.iloc[:, j] == 1))\n",
    "            mt_FEtest[0][1] = sum((mt_mut_R.iloc[:,i] == 1)\n",
    "                                  & (mt_mut_R.iloc[:,j] == 0))\n",
    "            mt_FEtest[1][0] = sum((mt_mut_R.iloc[:,i] == 0)\n",
    "                                  & (mt_mut_R.iloc[:,j] == 1))\n",
    "            mt_FEtest[1][1] = sum((mt_mut_R.iloc[:,i] == 0)\n",
    "                                  & (mt_mut_R.iloc[:,j] == 0))\n",
    "            idx_coMutation = ((mt_FEtest[0][0]+1) * (mt_FEtest[1][1]+1)) / \\\n",
    "                ((mt_FEtest[0][1]+1) * (mt_FEtest[1][0]+1))\n",
    "            \n",
    "            # fisher exact test\n",
    "            odds, pValue = fisher_exact(mt_FEtest, alternative='two-sided')\n",
    "\n",
    "            if pValue < cutoff_pValue:\n",
    "                plot_mutCor[idx][2] = -np.log10(pValue) + 1 # for dot size, if the pvalue is lager than cutoff value, fill in instinct value\n",
    "                if idx_coMutation > 1:\n",
    "                    plot_mutCor[idx][3] = 'E_black'\n",
    "                else:\n",
    "                    plot_mutCor[idx][3] = 'B_green'\n",
    "            else:\n",
    "                plot_mutCor[idx][2] = 1\n",
    "                plot_mutCor[idx][3] = 'C_grey'\n",
    "        \n",
    "        else: # i==j, fill all with 'NA'\n",
    "            plot_mutCor[idx][2] = np.NaN\n",
    "            plot_mutCor[idx][3] = np.NaN\n",
    "        \n",
    "        idx += 1 # add the index for plot table \n",
    "\n",
    "df_mutCorMatrix = pd.DataFrame(np.array(plot_mutCor), columns=['listA', 'listB', 'dotSize', 'dotColor'])\n"
   ],
   "outputs": [],
   "metadata": {}
  },
  {
   "cell_type": "code",
   "execution_count": 39,
   "source": [
    "# function 5 "
   ],
   "outputs": [],
   "metadata": {}
  },
  {
   "cell_type": "code",
   "execution_count": 55,
   "source": [
    "mt_FEtest = np.array([[3, 5], [7, 9]])\n",
    "odds, pValue = fisher_exact(mt_FEtest, alternative='two-sided')\n",
    "\n",
    "idx_coMutation = ((mt_FEtest[0][0]) * (mt_FEtest[1][1])) / \\\n",
    "    ((mt_FEtest[0][1]) * (mt_FEtest[1][0]))\n",
    "\n",
    "print(odds == idx_coMutation)"
   ],
   "outputs": [
    {
     "output_type": "stream",
     "name": "stdout",
     "text": [
      "True\n"
     ]
    }
   ],
   "metadata": {}
  },
  {
   "cell_type": "code",
   "execution_count": null,
   "source": [],
   "outputs": [],
   "metadata": {}
  }
 ],
 "metadata": {
  "orig_nbformat": 4,
  "language_info": {
   "name": "python",
   "version": "3.8.2",
   "mimetype": "text/x-python",
   "codemirror_mode": {
    "name": "ipython",
    "version": 3
   },
   "pygments_lexer": "ipython3",
   "nbconvert_exporter": "python",
   "file_extension": ".py"
  },
  "kernelspec": {
   "name": "python3",
   "display_name": "Python 3.8.2 64-bit"
  },
  "interpreter": {
   "hash": "31f2aee4e71d21fbe5cf8b01ff0e069b9275f58929596ceb00d14d90e3e16cd6"
  }
 },
 "nbformat": 4,
 "nbformat_minor": 2
}