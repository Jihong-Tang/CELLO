{
 "cells": [
  {
   "cell_type": "markdown",
   "source": [],
   "metadata": {}
  },
  {
   "cell_type": "code",
   "execution_count": null,
   "source": [
    "pip install numpy pandas matplotlib"
   ],
   "outputs": [],
   "metadata": {}
  },
  {
   "cell_type": "code",
   "execution_count": null,
   "source": [
    "import sys, os\n",
    "import numpy as np\n",
    "import pandas as pd\n",
    "import matplotlib\n",
    "# control the working directory\n",
    "print(os.getcwd())\n",
    "\n",
    "# data import and pandas manipulation\n",
    "fp_savi = \"../input.savi.txt\"\n",
    "cutoff_refdepth_B = 20\n",
    "cutoff_altdepth_B = 1\n",
    "cutoff_freq = 5\n",
    "\n",
    "raw_data = pd.read_csv(fp_savi, delimiter=\"\\t\")\n",
    "#print(raw_data.describe())\n",
    "\n",
    "df_savi = raw_data.loc[lambda df:(df[\"refdepth_Blood\"] >= cutoff_refdepth_B) & \n",
    "                                 (df[\"altdepth_Blood\"] <= cutoff_altdepth_B) & \n",
    "                                 (df[\"Sgt1_max_frequency\"] >= cutoff_freq), :]\n",
    "df_savi = df_savi.fillna(0)\n"
   ],
   "outputs": [],
   "metadata": {}
  },
  {
   "cell_type": "code",
   "execution_count": 41,
   "source": [],
   "outputs": [
    {
     "output_type": "stream",
     "name": "stdout",
     "text": [
      "     chr        pos ref alt                               Effect  \\\n",
      "0  chr10    5248362   T   C  splice_donor_variant+intron_variant   \n",
      "1  chr10   27703023   A   T                     missense_variant   \n",
      "2  chr10  122263428   G   A                     missense_variant   \n",
      "3  chr11     209598   C   T                   synonymous_variant   \n",
      "4  chr11   20676292  TG   T                   frameshift_variant   \n",
      "\n",
      "  Effect_Impact Functional_Class Codon_Change Amino_Acid_Change  \\\n",
      "0          HIGH                -            -                 -   \n",
      "1      MODERATE         MISSENSE      Tcc/Acc              S53T   \n",
      "2      MODERATE         MISSENSE      cGc/cAc              R52H   \n",
      "3           LOW           SILENT      tcC/tcT              S108   \n",
      "4          HIGH                -         tgg/              W758   \n",
      "\n",
      "  Amino_Acid_length  ... Recurrent_freq  refdepth_Blood  altdepth_Blood  \\\n",
      "0               323  ...             20             229               0   \n",
      "1               767  ...              0             127               0   \n",
      "2               271  ...             25             133               0   \n",
      "3               537  ...              0             114               0   \n",
      "4               797  ...             18              91               0   \n",
      "\n",
      "   refdepth_Primary  altdepth_Primary  refdepth_Recurrent  altdepth_Recurrent  \\\n",
      "0                95                53                 110                  27   \n",
      "1                76                36                 124                   0   \n",
      "2                67                49                  89                  30   \n",
      "3               120                17                 114                   0   \n",
      "4                94                25                  86                  19   \n",
      "\n",
      "   CaseID  varPrefix  varSurffix  \n",
      "0    R001          G           G  \n",
      "1    R001          G           T  \n",
      "2    R001          C           C  \n",
      "3    R001          C           G  \n",
      "4    R001          C           G  \n",
      "\n",
      "[5 rows x 27 columns]\n"
     ]
    }
   ],
   "metadata": {}
  },
  {
   "cell_type": "code",
   "execution_count": null,
   "source": [],
   "outputs": [],
   "metadata": {}
  }
 ],
 "metadata": {
  "orig_nbformat": 4,
  "language_info": {
   "name": "python",
   "version": "3.8.2",
   "mimetype": "text/x-python",
   "codemirror_mode": {
    "name": "ipython",
    "version": 3
   },
   "pygments_lexer": "ipython3",
   "nbconvert_exporter": "python",
   "file_extension": ".py"
  },
  "kernelspec": {
   "name": "python3",
   "display_name": "Python 3.8.2 64-bit"
  },
  "interpreter": {
   "hash": "31f2aee4e71d21fbe5cf8b01ff0e069b9275f58929596ceb00d14d90e3e16cd6"
  }
 },
 "nbformat": 4,
 "nbformat_minor": 2
}